{
 "cells": [
  {
   "cell_type": "code",
   "execution_count": 1,
   "id": "dd0c6ba9-804a-49ed-b7d1-94a1a6ad2c12",
   "metadata": {},
   "outputs": [],
   "source": [
    "# automatically select the number of feature for RFE\n",
    "from numpy import mean\n",
    "from numpy import std\n",
    "from sklearn.datasets import make_classification\n",
    "from sklearn.model_selection import cross_val_score\n",
    "from sklearn.model_selection import RepeatedStratifiedKFold\n",
    "from sklearn.feature_selection import RFECV\n",
    "from sklearn.tree import DecisionTreeClassifier\n",
    "from sklearn.pipeline import Pipeline"
   ]
  },
  {
   "cell_type": "code",
   "execution_count": 2,
   "id": "4e2cb957-d8db-4c91-9d0e-90c16c296a63",
   "metadata": {},
   "outputs": [],
   "source": [
    "# defien data set\n",
    "X, y = make_classification(n_samples=1000, n_features=10, n_informative=5, n_redundant=5, random_state=1)"
   ]
  },
  {
   "cell_type": "code",
   "execution_count": 3,
   "id": "01e59bcb-b762-4634-b233-85bf56575b40",
   "metadata": {},
   "outputs": [],
   "source": [
    "# create pipeline\n",
    "rfe = RFECV(estimator=DecisionTreeClassifier())\n",
    "model = DecisionTreeClassifier()\n",
    "pipeline = Pipeline(steps=[('s', rfe), ('m', model)])"
   ]
  },
  {
   "cell_type": "code",
   "execution_count": 4,
   "id": "d64a5173-fcdc-41d1-9b5e-d0155a66759f",
   "metadata": {},
   "outputs": [],
   "source": [
    "# evaluate model\n",
    "cv = RepeatedStratifiedKFold(n_splits=10, n_repeats=3, random_state=1)\n",
    "n_scores = cross_val_score(pipeline, X, y, scoring='accuracy', cv=cv, n_jobs=-1)"
   ]
  },
  {
   "cell_type": "code",
   "execution_count": 5,
   "id": "a6b6f979-d791-4842-b6a0-428f92696c97",
   "metadata": {},
   "outputs": [
    {
     "name": "stdout",
     "output_type": "stream",
     "text": [
      "Accuracy: 0.886 (0.027)\n"
     ]
    }
   ],
   "source": [
    "# repot performance\n",
    "print('Accuracy: %.3f (%.3f)' % (mean(n_scores), std(n_scores)))"
   ]
  },
  {
   "cell_type": "code",
   "execution_count": null,
   "id": "5ebdb32c-6751-4c2a-bf9c-525221fa4a4c",
   "metadata": {},
   "outputs": [],
   "source": []
  }
 ],
 "metadata": {
  "kernelspec": {
   "display_name": "Python 3 (ipykernel)",
   "language": "python",
   "name": "python3"
  },
  "language_info": {
   "codemirror_mode": {
    "name": "ipython",
    "version": 3
   },
   "file_extension": ".py",
   "mimetype": "text/x-python",
   "name": "python",
   "nbconvert_exporter": "python",
   "pygments_lexer": "ipython3",
   "version": "3.10.12"
  }
 },
 "nbformat": 4,
 "nbformat_minor": 5
}
